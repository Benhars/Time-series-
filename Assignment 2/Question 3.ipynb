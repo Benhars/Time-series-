{
 "cells": [
  {
   "cell_type": "code",
   "execution_count": null,
   "metadata": {},
   "outputs": [],
   "source": [
    "using Pkg\n",
    "Pkg.add(\"DataFrames\")\n",
    "Pkg.add(\"CSV\")\n",
    "using CSV\n",
    "using DataFrames\n",
    "path = \"C:/Users/bowus/OneDrive - Emory/PhD Economics/Year 2/Time Series/Homework/Assignment 2/\"\n",
    "data = CSV.read(path*\"data.csv\", DataFrame)"
   ]
  }
 ],
 "metadata": {
  "language_info": {
   "name": "python"
  }
 },
 "nbformat": 4,
 "nbformat_minor": 2
}
